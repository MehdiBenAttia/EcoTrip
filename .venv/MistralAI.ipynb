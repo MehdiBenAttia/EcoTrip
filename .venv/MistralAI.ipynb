{
  "cells": [
    {
      "cell_type": "code",
      "execution_count": 3,
      "id": "e44791f8-5b73-470b-8916-240a60b48b08",
      "metadata": {
        "id": "e44791f8-5b73-470b-8916-240a60b48b08"
      },
      "outputs": [],
      "source": [
        "from mistralai.client import MistralClient\n",
        "from mistralai.models.chat_completion import ChatMessage"
      ]
    },
    {
      "cell_type": "code",
      "source": [],
      "metadata": {
        "colab": {
          "base_uri": "https://localhost:8080/"
        },
        "id": "6KkrloGwN9CV",
        "outputId": "b9766a4c-724c-4805-986c-4d2a347cf5a2"
      },
      "id": "6KkrloGwN9CV",
      "execution_count": 2,
      "outputs": [
        {
          "output_type": "stream",
          "name": "stdout",
          "text": [
            "Collecting mistralai\n",
            "  Downloading mistralai-0.2.0-py3-none-any.whl (15 kB)\n",
            "Collecting httpx<1,>=0.25.2 (from mistralai)\n",
            "  Downloading httpx-0.27.0-py3-none-any.whl (75 kB)\n",
            "\u001b[2K     \u001b[90m━━━━━━━━━━━━━━━━━━━━━━━━━━━━━━━━━━━━━━━━\u001b[0m \u001b[32m75.6/75.6 kB\u001b[0m \u001b[31m2.3 MB/s\u001b[0m eta \u001b[36m0:00:00\u001b[0m\n",
            "\u001b[?25hCollecting orjson<4.0.0,>=3.9.10 (from mistralai)\n",
            "  Downloading orjson-3.10.3-cp310-cp310-manylinux_2_17_x86_64.manylinux2014_x86_64.whl (142 kB)\n",
            "\u001b[2K     \u001b[90m━━━━━━━━━━━━━━━━━━━━━━━━━━━━━━━━━━━━━━━━\u001b[0m \u001b[32m142.5/142.5 kB\u001b[0m \u001b[31m3.3 MB/s\u001b[0m eta \u001b[36m0:00:00\u001b[0m\n",
            "\u001b[?25hRequirement already satisfied: pydantic<3.0.0,>=2.5.2 in /usr/local/lib/python3.10/dist-packages (from mistralai) (2.7.1)\n",
            "Requirement already satisfied: anyio in /usr/local/lib/python3.10/dist-packages (from httpx<1,>=0.25.2->mistralai) (3.7.1)\n",
            "Requirement already satisfied: certifi in /usr/local/lib/python3.10/dist-packages (from httpx<1,>=0.25.2->mistralai) (2024.2.2)\n",
            "Collecting httpcore==1.* (from httpx<1,>=0.25.2->mistralai)\n",
            "  Downloading httpcore-1.0.5-py3-none-any.whl (77 kB)\n",
            "\u001b[2K     \u001b[90m━━━━━━━━━━━━━━━━━━━━━━━━━━━━━━━━━━━━━━━━\u001b[0m \u001b[32m77.9/77.9 kB\u001b[0m \u001b[31m5.0 MB/s\u001b[0m eta \u001b[36m0:00:00\u001b[0m\n",
            "\u001b[?25hRequirement already satisfied: idna in /usr/local/lib/python3.10/dist-packages (from httpx<1,>=0.25.2->mistralai) (3.7)\n",
            "Requirement already satisfied: sniffio in /usr/local/lib/python3.10/dist-packages (from httpx<1,>=0.25.2->mistralai) (1.3.1)\n",
            "Collecting h11<0.15,>=0.13 (from httpcore==1.*->httpx<1,>=0.25.2->mistralai)\n",
            "  Downloading h11-0.14.0-py3-none-any.whl (58 kB)\n",
            "\u001b[2K     \u001b[90m━━━━━━━━━━━━━━━━━━━━━━━━━━━━━━━━━━━━━━━━\u001b[0m \u001b[32m58.3/58.3 kB\u001b[0m \u001b[31m4.9 MB/s\u001b[0m eta \u001b[36m0:00:00\u001b[0m\n",
            "\u001b[?25hRequirement already satisfied: annotated-types>=0.4.0 in /usr/local/lib/python3.10/dist-packages (from pydantic<3.0.0,>=2.5.2->mistralai) (0.7.0)\n",
            "Requirement already satisfied: pydantic-core==2.18.2 in /usr/local/lib/python3.10/dist-packages (from pydantic<3.0.0,>=2.5.2->mistralai) (2.18.2)\n",
            "Requirement already satisfied: typing-extensions>=4.6.1 in /usr/local/lib/python3.10/dist-packages (from pydantic<3.0.0,>=2.5.2->mistralai) (4.11.0)\n",
            "Requirement already satisfied: exceptiongroup in /usr/local/lib/python3.10/dist-packages (from anyio->httpx<1,>=0.25.2->mistralai) (1.2.1)\n",
            "Installing collected packages: orjson, h11, httpcore, httpx, mistralai\n",
            "Successfully installed h11-0.14.0 httpcore-1.0.5 httpx-0.27.0 mistralai-0.2.0 orjson-3.10.3\n"
          ]
        }
      ]
    },
    {
      "cell_type": "code",
      "execution_count": 4,
      "id": "1ab020c8-f4d3-4ec8-b385-c0dd996414b8",
      "metadata": {
        "id": "1ab020c8-f4d3-4ec8-b385-c0dd996414b8"
      },
      "outputs": [],
      "source": [
        "api_key = \"JbM16I0jbrkuzJLfEG0lnFqAsLI1Ffhd\""
      ]
    },
    {
      "cell_type": "code",
      "execution_count": 5,
      "id": "76c50a79-cee1-4c40-bcee-67020011dfb7",
      "metadata": {
        "id": "76c50a79-cee1-4c40-bcee-67020011dfb7"
      },
      "outputs": [],
      "source": [
        "def flight_recommandation(Departure, Destination):\n",
        "    user_message = (\n",
        "        f\"\"\"\n",
        "        Act as a trip advisor and provide me with the most eco-friendly travel plan for a trip from {Departure} to {Destination}.\n",
        "        Return the response in JSON format\n",
        "        Include the cheapest flights available and provide an explanation why you choose these flights in an eco friendly way. Please structure the response as follows in Json:\n",
        "\n",
        "        The three most eco-friendly airlines for this route are :\n",
        "\n",
        "        Airline : This field should be a string object containing the name of the AirLine\n",
        "        departure_date_time :string for departure  date and time in ISO Format like this : \"2022-10-02T07:00:00\"\n",
        "        arrival_date_time :string for arrival  date and time in ISO Format like this : \"2022-10-02T07:00:00\"\n",
        "        departure_Airport: This should be a string containing the name of the departure Airport.\n",
        "        arrival_Airport: This should be a string containing the name of the arrival Airport.\n",
        "        explanation: string containing the explanation about advantages of choosing this flight in ecology\n",
        "\n",
        "\n",
        "\n",
        "        \"\"\"\n",
        "    )\n",
        "    return user_message"
      ]
    },
    {
      "cell_type": "code",
      "execution_count": 6,
      "id": "5942ee81-2848-4298-a1f6-cef79c4610d4",
      "metadata": {
        "id": "5942ee81-2848-4298-a1f6-cef79c4610d4"
      },
      "outputs": [],
      "source": [
        "def run_mistral(user_message, model=\"mistral-large-latest\"):\n",
        "    client = MistralClient(api_key=api_key)\n",
        "    messages = [\n",
        "        ChatMessage(role=\"user\", content=user_message)\n",
        "    ]\n",
        "    chat_response = client.chat(\n",
        "        model=model,\n",
        "        messages=messages,\n",
        "\n",
        "    )\n",
        "    return (chat_response.choices[0].message.content)"
      ]
    },
    {
      "cell_type": "code",
      "execution_count": 7,
      "id": "320d5caf-389a-4a2e-8136-ec2873569bdd",
      "metadata": {
        "colab": {
          "base_uri": "https://localhost:8080/"
        },
        "id": "320d5caf-389a-4a2e-8136-ec2873569bdd",
        "outputId": "f54ef9f2-a31c-4642-bd05-b7165b90b0ad"
      },
      "outputs": [
        {
          "output_type": "stream",
          "name": "stdout",
          "text": [
            "{\n",
            "        \"eco_friendly_flights\": [\n",
            "            {\n",
            "                \"airline\": \"Air France\",\n",
            "                \"departure_date_time\": \"2022-10-02T07:00:00\",\n",
            "                \"arrival_date_time\": \"2022-10-02T09:30:00\",\n",
            "                \"departure_airport\": \"Charles de Gaulle Airport, Paris\",\n",
            "                \"arrival_airport\": \"Humberto Delgado Airport, Lisbon\",\n",
            "                \"explanation\": \"Air France has a strong commitment to reducing its carbon footprint. It operates one of the youngest fleets in the world, which are more fuel-efficient. They also have a robust carbon offsetting program.\"\n",
            "            },\n",
            "            {\n",
            "                \"airline\": \"TAP Air Portugal\",\n",
            "                \"departure_date_time\": \"2022-10-02T10:00:00\",\n",
            "                \"arrival_date_time\": \"2022-10-02T12:30:00\",\n",
            "                \"departure_airport\": \"Orly Airport, Paris\",\n",
            "                \"arrival_airport\": \"Humberto Delgado Airport, Lisbon\",\n",
            "                \"explanation\": \"TAP Air Portugal has implemented several eco-friendly initiatives such as fuel efficiency measures, waste reduction, and a modern fleet. They also offer a carbon offset program for passengers.\"\n",
            "            },\n",
            "            {\n",
            "                \"airline\": \"EasyJet\",\n",
            "                \"departure_date_time\": \"2022-10-02T13:00:00\",\n",
            "                \"arrival_date_time\": \"2022-10-02T15:30:00\",\n",
            "                \"departure_airport\": \"Charles de Gaulle Airport, Paris\",\n",
            "                \"arrival_airport\": \"Humberto Delgado Airport, Lisbon\",\n",
            "                \"explanation\": \"EasyJet has a strong focus on operational efficiency and has been named as one of the world's most eco-efficient airlines. They operate a young fleet of Airbus aircraft, which are more fuel-efficient and produce less noise.\"\n",
            "            }\n",
            "        ]\n",
            "        }\n"
          ]
        }
      ],
      "source": [
        "print(run_mistral(flight_recommandation(\n",
        "    \"Paris\", \"Lisbon\"\n",
        ")))"
      ]
    },
    {
      "cell_type": "code",
      "execution_count": 8,
      "id": "f8b597dd-ebfa-49e3-b105-0b918a9715c9",
      "metadata": {
        "id": "f8b597dd-ebfa-49e3-b105-0b918a9715c9"
      },
      "outputs": [],
      "source": [
        "def accomodation_recommandation(Destination):\n",
        "    user_message = (\n",
        "        f\"\"\"\n",
        "        Act as a trip advisor and recommend three budget-friendly, eco-friendly accommodations in {Destination}\n",
        "        Return the response in JSON format.\n",
        "        Include details about their sustainable practices, address, size (number of rooms), and proximity to public transport.\n",
        "        Please structure the response as follows in Json:\n",
        "\n",
        "        The three most eco-friendly accommodations in the city center are:\n",
        "\n",
        "        name: a string containing the name of the accomodation, it can be a hotel, motel or an appartment or any sort of accomodation name.\n",
        "        adress: string containing the adress of the accomodation.\n",
        "        price: a string containing the price of the accomodation with its currency\n",
        "        distance: a string containing the distance from the center of the city in km\n",
        "\n",
        "\n",
        "        \"\"\"\n",
        "    )\n",
        "    return user_message"
      ]
    },
    {
      "cell_type": "code",
      "execution_count": 9,
      "id": "fbd9a710-837c-4da9-8089-e33c0e8e88d1",
      "metadata": {
        "colab": {
          "base_uri": "https://localhost:8080/"
        },
        "id": "fbd9a710-837c-4da9-8089-e33c0e8e88d1",
        "outputId": "55695594-d9a1-4469-900c-10a5b9f1a2af"
      },
      "outputs": [
        {
          "output_type": "stream",
          "name": "stdout",
          "text": [
            "{\n",
            "        \"accommodations\": [\n",
            "            {\n",
            "                \"name\": \"Lisbon Eco Hostel\",\n",
            "                \"address\": \"Rua Andrade Corvo 46, Lisbon, 1050-004, Portugal\",\n",
            "                \"price\": \"Starting from 20 EUR per night\",\n",
            "                \"distance\": \"1.5 km from the city center\",\n",
            "                \"size\": \"100 rooms\",\n",
            "                \"public_transport\": \"500 meters from the nearest metro station (Intendente)\",\n",
            "                \"sustainable_practices\": \"This hostel is committed to reducing its carbon footprint. It uses energy-saving light bulbs, has a recycling program, and offers organic and locally sourced breakfast.\"\n",
            "            },\n",
            "            {\n",
            "                \"name\": \"Living Lounge Hostel\",\n",
            "                \"address\": \"Rua da Palma 106, Lisbon, 1100-381, Portugal\",\n",
            "                \"price\": \"Starting from 25 EUR per night\",\n",
            "                \"distance\": \"1 km from the city center\",\n",
            "                \"size\": \"80 rooms\",\n",
            "                \"public_transport\": \"300 meters from the nearest metro station (Baixa-Chiado)\",\n",
            "                \"sustainable_practices\": \"This hostel has a strong focus on sustainability. It uses solar panels for hot water, has a rainwater collection system, and promotes local culture and businesses.\"\n",
            "            },\n",
            "            {\n",
            "                \"name\": \"Lisbon Green Apartments\",\n",
            "                \"address\": \"Rua da Madalena 57, Lisbon, 1100-318, Portugal\",\n",
            "                \"price\": \"Starting from 50 EUR per night\",\n",
            "                \"distance\": \"0.5 km from the city center\",\n",
            "                \"size\": \"20 apartments\",\n",
            "                \"public_transport\": \"200 meters from the nearest metro station (Baixa-Chiado)\",\n",
            "                \"sustainable_practices\": \"These apartments are eco-friendly with energy-efficient appliances, recycling facilities, and use of eco-friendly cleaning products. They also support local businesses and culture.\"\n",
            "            }\n",
            "        ]\n",
            "        }\n"
          ]
        }
      ],
      "source": [
        "print(run_mistral(accomodation_recommandation(\n",
        "    \"Lisbon\"\n",
        ")))"
      ]
    },
    {
      "cell_type": "code",
      "execution_count": 10,
      "id": "db9f0f31-5867-4892-9ed6-78bf295a3072",
      "metadata": {
        "id": "db9f0f31-5867-4892-9ed6-78bf295a3072"
      },
      "outputs": [],
      "source": [
        "def activities_recommandation(Destination):\n",
        "    user_message = (\n",
        "\n",
        "        f\"\"\"\n",
        "        Act as a trip advisor and identify five common eco-friendly activities in {Destination} including visits to museums, cultural facilities, and leisure activities.\n",
        "        Return the response in JSON format.\n",
        "        Provide information on sustainable transportation options to access these places. Please structure the response as follows in JSON:\n",
        "\n",
        "       The top five eco-friendly activities in Lisbon include:\n",
        "\n",
        "       activity_name: string containing the activity name\n",
        "       reference: string containing the link of the activity name\n",
        "       adress: string containing the adress of this activity\n",
        "       description: string containing a brief description of the activity\n",
        "       accessible_by : string containing transport option available to go to this activity\n",
        "\n",
        "\n",
        "\n",
        "        \"\"\"\n",
        "    )\n",
        "    return user_message"
      ]
    },
    {
      "cell_type": "code",
      "execution_count": 11,
      "id": "656b3681-308c-42e5-a2a1-97728df28daf",
      "metadata": {
        "scrolled": true,
        "colab": {
          "base_uri": "https://localhost:8080/"
        },
        "id": "656b3681-308c-42e5-a2a1-97728df28daf",
        "outputId": "46891cc6-de49-44b2-dba7-c92d6d9b2690"
      },
      "outputs": [
        {
          "output_type": "stream",
          "name": "stdout",
          "text": [
            "{\n",
            "  \"eco_friendly_activities\": [\n",
            "    {\n",
            "      \"activity_name\": \"Ecomuseum of the Aguas Livres Aqueduct\",\n",
            "      \"reference\": \"https://www.epal.pt/en/visit-us/ecomuseum-aguas-livres-aqueduct\",\n",
            "      \"address\": \"Calçada da Quintinha 6, 1950-322 Lisboa, Portugal\",\n",
            "      \"description\": \"Explore the history and engineering marvel of Lisbon's 18th century aqueduct system while enjoying a nature walk along the water channels.\",\n",
            "      \"accessible_by\": \"Public transportation: Bus (726, 735, 764, 768) or Tram (18E, 25E)\"\n",
            "    },\n",
            "    {\n",
            "      \"activity_name\": \"Museu do Oriente\",\n",
            "      \"reference\": \"https://www.museudooriente.pt/en/\",\n",
            "      \"address\": \"Av. Brasília, Doca de Alcântara Norte, 1350-352 Lisboa, Portugal\",\n",
            "      \"description\": \"Discover Portuguese maritime history and Asian art collections in an eco-friendly museum with sustainable practices like rainwater collection and solar panels.\",\n",
            "      \"accessible_by\": \"Public transportation: Train (Cascais Line to Alcântara-Mar station), Bus (714, 728, 732, 760), Tram (15E, 18E)\"\n",
            "    },\n",
            "    {\n",
            "      \"activity_name\": \"Lisbon Botanical Garden\",\n",
            "      \"reference\": \"https://www.hortobotanicolisboa.pt/\",\n",
            "      \"address\": \"Rua da Escola Politécnica 58, 1250-102 Lisboa, Portugal\",\n",
            "      \"description\": \"Enjoy a green oasis in the city center, home to diverse plant species from around the world, promoting conservation and education.\",\n",
            "      \"accessible_by\": \"Public transportation: Bus (758, 764), Metro (Blue Line to Príncipe Real station)\"\n",
            "    },\n",
            "    {\n",
            "      \"activity_name\": \"Monsanto Forest Park\",\n",
            "      \"reference\": \"https://www.visitlisboa.com/en/what-to-do/nature/monsanto-forest-park\",\n",
            "      \"address\": \"Estrada de Circunvalação, 1549-010 Lisboa, Portugal\",\n",
            "      \"description\": \"The largest urban park in Lisbon, perfect for hiking, biking, and picnics while enjoying the rich biodiversity and panoramic city views.\",\n",
            "      \"accessible_by\": \"Public transportation: Bus (701, 717, 736, 755, 768)\"\n",
            "    },\n",
            "    {\n",
            "      \"activity_name\": \"Solar do Vinho do Porto\",\n",
            "      \"reference\": \"https://www.solarvinhodoporto.com/\",\n",
            "      \"address\": \"Rua de São Pedro de Alcântara 45, 1250-238 Lisboa, Portugal\",\n",
            "      \"description\": \"Taste authentic Port wine at this eco-friendly wine house, which offers a wide selection of sustainable and organic wines from the Douro Valley.\",\n",
            "      \"accessible_by\": \"Public transportation: Bus (758), Metro (Blue Line to Baixa-Chiado station)\"\n",
            "    }\n",
            "  ]\n",
            "}\n"
          ]
        }
      ],
      "source": [
        "print(run_mistral(activities_recommandation(\n",
        "    \"Lisbon\"\n",
        ")))"
      ]
    },
    {
      "cell_type": "code",
      "execution_count": 12,
      "id": "a4ba947c-a97e-469f-b793-501081b8706a",
      "metadata": {
        "id": "a4ba947c-a97e-469f-b793-501081b8706a"
      },
      "outputs": [],
      "source": [
        "def plans_coordination_recommandation(Destination,NDays):\n",
        "    user_message = (\n",
        "\n",
        "        f\"\"\"\n",
        "        Act as a trip advisor and create a cohesive day-by-day itinerary for an eco-friendly plan to {Destination}, coordinating activities to assure the most suitable economic and eco-friendly program.\n",
        "        Return the response in JSON format.\n",
        "        Include distances, prices, and emphasize budget-friendly, sustainable transportation options such as walking, biking, and public transport.\n",
        "        Please structure the response as follows in JSON:\n",
        "\n",
        "\n",
        "\n",
        "\n",
        "        For a coordinated eco-friendly travel plan in Lisbon for {NDays} days:\n",
        "\n",
        "\n",
        "        day : Each day object should contain a list of activities. Each activity should be represented as an object containing the following details:\n",
        "        activity_name: A string containing the name of the activity.\n",
        "        reference: A string containing the link of the activity name.\n",
        "        address: A string containing the address of the activity.\n",
        "        description: A string containing a brief description of the activity.\n",
        "        accessible_by: A string containing a transport option available to reach the activity from the last activity with description.\n",
        "        price: price of the transportation with the currency of the city\n",
        "\n",
        "\n",
        "        \"\"\"\n",
        "    )\n",
        "    return user_message\n"
      ]
    },
    {
      "cell_type": "code",
      "execution_count": 13,
      "id": "dc31d0dd-5e8e-4d58-b26a-489928e0153f",
      "metadata": {
        "colab": {
          "base_uri": "https://localhost:8080/"
        },
        "id": "dc31d0dd-5e8e-4d58-b26a-489928e0153f",
        "outputId": "cb5619ce-b25e-4360-a14a-86f6749a905c"
      },
      "outputs": [
        {
          "output_type": "stream",
          "name": "stdout",
          "text": [
            "{\n",
            "  \"eco_friendly_travel_plan\": {\n",
            "    \"duration\": 5,\n",
            "    \"days\": [\n",
            "      {\n",
            "        \"day\": 1,\n",
            "        \"activities\": [\n",
            "          {\n",
            "            \"activity_name\": \"Alfama District Walking Tour\",\n",
            "            \"reference\": \"https://www.getyourguide.com/lisbon-l27/alfama-district-walking-tour-in-lisbon-t96566/\",\n",
            "            \"address\": \"Alfama, Lisbon, Portugal\",\n",
            "            \"description\": \"Discover the historic Alfama district on a walking tour and explore its labyrinth of medieval streets, historic buildings, and stunning viewpoints.\",\n",
            "            \"accessible_by\": \"Walking (Starting point from your accommodation in Lisbon)\",\n",
            "            \"price\": \"0.00 EUR\"\n",
            "          },\n",
            "          {\n",
            "            \"activity_name\": \"Visit to the Se Cathedral\",\n",
            "            \"reference\": \"https://www.patriarcado-lisboa.pt/monumentos/se-de-lisboa/\",\n",
            "            \"address\": \"Largo da Sé, 1100-585 Lisboa, Portugal\",\n",
            "            \"description\": \"Visit the Se Cathedral, Lisbon's oldest church, and marvel at its Gothic and Romanesque architectural elements.\",\n",
            "            \"accessible_by\": \"Walking (10 minutes from Alfama District)\",\n",
            "            \"price\": \"0.00 EUR\"\n",
            "          }\n",
            "        ]\n",
            "      },\n",
            "      {\n",
            "        \"day\": 2,\n",
            "        \"activities\": [\n",
            "          {\n",
            "            \"activity_name\": \"Bike tour along the Tagus River\",\n",
            "            \"reference\": \"https://www.bajabikes.com/en/experience/lisbon-bike-tour/\",\n",
            "            \"address\": \"Rua do Cais do Sodré, 70-B, 1200-450 Lisboa, Portugal\",\n",
            "            \"description\": \"Join a bike tour along the Tagus River and enjoy panoramic views of Lisbon while learning about its history and culture.\",\n",
            "            \"accessible_by\": \"Public transport - Tram 15E or 25E from Praça da Figueira (30 minutes)\",\n",
            "            \"price\": \"3.00 EUR\"\n",
            "          },\n",
            "          {\n",
            "            \"activity_name\": \"Visit to MAAT - Museum of Art, Architecture and Technology\",\n",
            "            \"reference\": \"https://www.maat.pt/en\",\n",
            "            \"address\": \"Av. Brasília, Central Tejo, 1300-598 Lisboa, Portugal\",\n",
            "            \"description\": \"Explore contemporary art, architecture, and technology exhibitions at the MAAT museum.\",\n",
            "            \"accessible_by\": \"Biking (15 minutes from the Tagus River bike tour)\",\n",
            "            \"price\": \"0.00 EUR\"\n",
            "          }\n",
            "        ]\n",
            "      },\n",
            "      {\n",
            "        \"day\": 3,\n",
            "        \"activities\": [\n",
            "          {\n",
            "            \"activity_name\": \"LX Factory and Village Underground\",\n",
            "            \"reference\": \"https://lxfactory.com/en/\",\n",
            "            \"address\": \"R. Rodrigues de Faria 103, 1300 - 501 Lisboa, Portugal\",\n",
            "            \"description\": \"Discover the creative hub of LX Factory and Village Underground, filled with art galleries, unique shops, and eateries.\",\n",
            "            \"accessible_by\": \"Public transport - Tram 15E from Praça da Figueira (20 minutes)\",\n",
            "            \"price\": \"3.00 EUR\"\n",
            "          },\n",
            "          {\n",
            "            \"activity_name\": \"Sunset at Miradouro da Senhora do Monte\",\n",
            "            \"reference\": \"https://www.atlasobscura.com/places/miradouro-da-senhora-do-monte\",\n",
            "            \"address\": \"Calçada do Monte, 1170-253 Lisboa, Portugal\",\n",
            "            \"description\": \"Enjoy a stunning sunset view over Lisbon from the highest viewpoint in the city.\",\n",
            "            \"accessible_by\": \"Public transport - Tram 28E from LX Factory to Martim Moniz, then walk (30 minutes)\",\n",
            "            \"price\": \"3.00 EUR\"\n",
            "          }\n",
            "        ]\n",
            "      },\n",
            "      {\n",
            "        \"day\": 4,\n",
            "        \"activities\": [\n",
            "          {\n",
            "            \"activity_name\": \"Day trip to Sintra - Pena Palace\",\n",
            "            \"reference\": \"https://www.parquesdesintra.pt/en/parks-and-monuments/park-and-national-palace-of-pena/\",\n",
            "            \"address\": \"Estrada da Pena, 2710-609 Sintra, Portugal\",\n",
            "            \"description\": \"Visit the colorful Pena Palace, a UNESCO World Heritage Site, in the enchanting town of Sintra.\",\n",
            "            \"accessible_by\": \"Train from Rossio Station to Sintra, then bus 434 to Pena Palace (1.5 hours)\",\n",
            "            \"price\": \"7.20 EUR\"\n",
            "          },\n",
            "          {\n",
            "            \"activity_name\": \"Explore the historical center of Sintra\",\n",
            "            \"reference\": \"https://www.sintra-portugal.com/sintra/historical-centre/\",\n",
            "            \"address\": \"Centro Histórico de Sintra, 2710-616 Sintra, Portugal\",\n",
            "            \"description\": \"Wander through the picturesque streets of Sintra's historical center and explore its shops, cafes, and pastries.\",\n",
            "            \"accessible_by\": \"Bus 434 from Pena Palace to Sintra town center (20 minutes)\",\n",
            "            \"price\": \"3.60 EUR\"\n",
            "          }\n",
            "        ]\n",
            "      },\n",
            "      {\n",
            "        \"day\": 5,\n",
            "        \"activities\": [\n",
            "          {\n",
            "            \"activity_name\": \"Tram 28E tour\",\n",
            "            \"reference\": \"https://www.visitlisboa.com/en/what-to-do/lisbon-tram-28\",\n",
            "            \"address\": \"Rua da Conceição da Glória, 1100-184 Lisboa, Portugal\",\n",
            "            \"description\": \"Take a scenic tour through Lisbon's historic neighborhoods on the iconic Tram 28E.\",\n",
            "            \"accessible_by\": \"Public transport - Tram 28E from Praça da Figueira (included in daily ticket)\",\n",
            "            \"price\": \"3.00 EUR\"\n",
            "          },\n",
            "          {\n",
            "            \"activity_name\": \"Farewell dinner at Time Out Market\",\n",
            "            \"reference\": \"https://www.timeoutmarket.com/lisboa/en/\",\n",
            "            \"address\": \"Av. 24 de Julho 49, 1200-479 Lisboa, Portugal\",\n",
            "            \"description\": \"Enjoy a variety of delicious Portuguese dishes at the Time Out Market, a popular food hall featuring the city's best chefs.\",\n",
            "            \"accessible_by\": \"Public transport - Tram 15E from Praça da Figueira (15 minutes)\",\n",
            "            \"price\": \"3.00 EUR\"\n",
            "          }\n",
            "        ]\n",
            "      }\n",
            "    ]\n",
            "  }\n",
            "}\n"
          ]
        }
      ],
      "source": [
        "print(run_mistral(plans_coordination_recommandation(\n",
        "    \"Lisbon\",5\n",
        ")))"
      ]
    },
    {
      "cell_type": "code",
      "execution_count": 14,
      "id": "6c24a5e0-bf2b-43df-88e2-8a3d6ee23430",
      "metadata": {
        "id": "6c24a5e0-bf2b-43df-88e2-8a3d6ee23430"
      },
      "outputs": [],
      "source": [
        "def cultural_recommandation(Destination):\n",
        "    user_message = (\n",
        "\n",
        "        f\"\"\"\n",
        "        Act as a trip advisor and highlight three eco-friendly cultural experiences in {Destination} that showcase local culture and traditions.\n",
        "        Return the response in JSON format:\n",
        "        Suggest visits to local markets, traditional workshops, or community-led tours that promote sustainability.\n",
        "        Please structure the response as follows in JSON:\n",
        "\n",
        "\n",
        "        Three excellent eco-friendly cultural experiences in Lisbon are:\n",
        "\n",
        "        experiences : object containing details about the curtural experiences details:\n",
        "        experience_name: string containing the name of the experience.\n",
        "        description: string containing the description of the experience.\n",
        "        explanation: string containing a brief explanation about how this activity supports sustainability.\n",
        "\n",
        "\n",
        "\n",
        "\n",
        "        \"\"\"\n",
        "    )\n",
        "    return user_message\n"
      ]
    },
    {
      "cell_type": "code",
      "execution_count": 16,
      "id": "191d2407-e66f-4484-83c6-a98167554418",
      "metadata": {
        "colab": {
          "base_uri": "https://localhost:8080/"
        },
        "id": "191d2407-e66f-4484-83c6-a98167554418",
        "outputId": "a7012031-d2bb-4b91-f31a-008c97c480ee"
      },
      "outputs": [
        {
          "output_type": "stream",
          "name": "stdout",
          "text": [
            "{\n",
            "  \"experiences\": [\n",
            "    {\n",
            "      \"experience_name\": \"LX Market at Mercado de Alvalade\",\n",
            "      \"description\": \"Visit the LX Market at Mercado de Alvalade, a traditional market that showcases local produce, handicrafts, and Portuguese gastronomy. Engage with local vendors, sample authentic food, and immerse yourself in the vibrant atmosphere.\",\n",
            "      \"explanation\": \"Supporting local markets reduces the carbon footprint associated with long-distance transportation of goods, promotes the local economy, and encourages sustainable farming practices.\"\n",
            "    },\n",
            "    {\n",
            "      \"experience_name\": \"Ceramic Workshop at Viúva Lamego\",\n",
            "      \"description\": \"Participate in a ceramic workshop at Viúva Lamego, a traditional Portuguese tile factory. Learn about the history of azulejos (Portuguese tiles) and create your own tile using centuries-old techniques.\",\n",
            "      \"explanation\": \"Preserving traditional crafts and art forms supports local artisans and encourages the use of sustainable, locally sourced materials.\"\n",
            "    },\n",
            "    {\n",
            "      \"experience_name\": \"Eco-friendly Alfama Walking Tour\",\n",
            "      \"description\": \"Join a community-led walking tour through the historic Alfama neighborhood, exploring its narrow streets, picturesque squares, and stunning viewpoints. Learn about the area's rich history, culture, and traditions from a local guide.\",\n",
            "      \"explanation\": \"Community-led tours promote responsible tourism, support local guides, and provide an authentic, immersive cultural experience while minimizing the environmental impact.\"\n",
            "    }\n",
            "  ]\n",
            "}\n"
          ]
        }
      ],
      "source": [
        "print(run_mistral(cultural_recommandation(\n",
        "    \"Lisbon\"\n",
        ")))"
      ]
    },
    {
      "cell_type": "code",
      "execution_count": 17,
      "id": "788bfcc9-2e5c-4c35-8c72-cf9b249c4aa3",
      "metadata": {
        "id": "788bfcc9-2e5c-4c35-8c72-cf9b249c4aa3"
      },
      "outputs": [],
      "source": [
        "def events_recommandation(Destination):\n",
        "    user_message = (\n",
        "\n",
        "        f\"\"\"\n",
        "        Act as a trip advisor and identify three upcoming events or local organizations in (Destination) focused on sustainability and eco-friendly initiatives.\n",
        "        Return the response in JSON format.\n",
        "        Provide details about the events and ways to engage with the organizations during the visit. Please structure the response as follows in JSON:\n",
        "\n",
        "\n",
        "        Three upcoming events/local organizations in Lisbon focused on sustainability are:\n",
        "\n",
        "\n",
        "\n",
        "        events : object containing details about the events details:\n",
        "        id: string containing an id for the event.\n",
        "        event_name: string containing the name of the experience.\n",
        "        organization: string containing the name of the organization.\n",
        "        description: string containing the description of the event.\n",
        "        explanation: string containing a brief explanation about how can he engage in this event.\n",
        "\n",
        "\n",
        "\n",
        "\n",
        "        \"\"\"\n",
        "    )\n",
        "    return user_message\n"
      ]
    },
    {
      "cell_type": "code",
      "execution_count": 18,
      "id": "0af42f5c-4a07-445e-b47b-f16bbbfc325a",
      "metadata": {
        "colab": {
          "base_uri": "https://localhost:8080/"
        },
        "id": "0af42f5c-4a07-445e-b47b-f16bbbfc325a",
        "outputId": "cf6e217c-6f92-440c-e3de-42563d50a5ab"
      },
      "outputs": [
        {
          "output_type": "stream",
          "name": "stdout",
          "text": [
            "{\n",
            "  \"events\": [\n",
            "    {\n",
            "      \"id\": \"1\",\n",
            "      \"event_name\": \"Lisbon Sustainability Week\",\n",
            "      \"organization\": \"Lisbon City Council\",\n",
            "      \"description\": \"Lisbon Sustainability Week is an annual event that brings together experts, policymakers, and citizens to discuss and promote sustainable practices in the city. The week-long event features conferences, workshops, exhibitions, and eco-friendly activities.\",\n",
            "      \"explanation\": \"Visitors can participate in various workshops and conferences, learn about sustainable practices, and engage with local organizations working on eco-friendly initiatives.\"\n",
            "    },\n",
            "    {\n",
            "      \"id\": \"2\",\n",
            "      \"event_name\": \"Eco-Market at LX Factory\",\n",
            "      \"organization\": \"LX Factory\",\n",
            "      \"description\": \"The Eco-Market at LX Factory is a monthly event dedicated to promoting sustainable products and practices. Local vendors showcase their eco-friendly products, from organic food to upcycled fashion, while visitors can attend workshops on topics such as zero-waste living and urban gardening.\",\n",
            "      \"explanation\": \"Engage with local vendors, purchase sustainable products, and attend workshops to learn more about eco-friendly practices during your visit.\"\n",
            "    },\n",
            "    {\n",
            "      \"id\": \"3\",\n",
            "      \"event_name\": \"Clean Ocean Project Beach Cleanup\",\n",
            "      \"organization\": \"Clean Ocean Project\",\n",
            "      \"description\": \"The Clean Ocean Project is a local organization focused on preserving marine biodiversity and promoting ocean conservation. They regularly organize beach cleanups and underwater cleanups in Lisbon and surrounding areas.\",\n",
            "      \"explanation\": \"Join one of their beach cleanups during your visit to actively contribute to the preservation of Lisbon's coastline and learn more about marine conservation efforts.\"\n",
            "    }\n",
            "  ]\n",
            "}\n"
          ]
        }
      ],
      "source": [
        "print(run_mistral(events_recommandation(\n",
        "    \"Lisbon\"\n",
        ")))"
      ]
    },
    {
      "cell_type": "code",
      "execution_count": null,
      "id": "f08a8be9-6da2-49fb-b9a3-69930739e9e1",
      "metadata": {
        "id": "f08a8be9-6da2-49fb-b9a3-69930739e9e1"
      },
      "outputs": [],
      "source": []
    }
  ],
  "metadata": {
    "kernelspec": {
      "display_name": "Python 3 (ipykernel)",
      "language": "python",
      "name": "python3"
    },
    "language_info": {
      "codemirror_mode": {
        "name": "ipython",
        "version": 3
      },
      "file_extension": ".py",
      "mimetype": "text/x-python",
      "name": "python",
      "nbconvert_exporter": "python",
      "pygments_lexer": "ipython3",
      "version": "3.11.7"
    },
    "colab": {
      "provenance": []
    }
  },
  "nbformat": 4,
  "nbformat_minor": 5
}